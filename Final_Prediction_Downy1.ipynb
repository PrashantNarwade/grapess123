{
  "cells": [
    {
      "cell_type": "markdown",
      "id": "f94edc12",
      "metadata": {
        "id": "f94edc12"
      },
      "source": [
        "# Grape Disease prediction using Machine Learning"
      ]
    },
    {
      "cell_type": "markdown",
      "id": "f7602ad1",
      "metadata": {
        "id": "f7602ad1"
      },
      "source": [
        "### User defined functions"
      ]
    },
    {
      "cell_type": "code",
      "execution_count": 125,
      "id": "c33a3a9d",
      "metadata": {
        "id": "c33a3a9d"
      },
      "outputs": [],
      "source": [
        "import sklearn\n",
        "from sklearn.metrics import precision_score, recall_score, f1_score\n",
        "\n",
        "def print_scores(y_pred, y_test, model):\n",
        "    # Testing Accuracy\n",
        "    score = model.score(X_test, Y_test)\n",
        "    print('Testing accuracy: %.2f' % (score * 100))\n",
        "    \n",
        "    # Precision Score\n",
        "    score = precision_score(Y_pred, Y_test, average = 'macro')\n",
        "    print('Precision Score: %.2f' % score)\n",
        "    \n",
        "    # Recall Score\n",
        "    score = recall_score(Y_pred, Y_test, average = 'macro')\n",
        "    print('Recall Score: %.2f' % score)\n",
        "    \n",
        "    # F1 Score\n",
        "    score = f1_score(Y_pred, Y_test, average = 'macro')\n",
        "    print('F1 Score: %.2f' % score)\n",
        "    \n",
        "def get_predictions(feature_set, le):\n",
        "    prediction = model.predict(feature_set)\n",
        "    attribute = le.inverse_transform(prediction)[0]\n",
        "    print('{} chances of Downy Mildew'.format(attribute.upper()))"
      ]
    },
    {
      "cell_type": "markdown",
      "id": "0f23aeb2",
      "metadata": {
        "id": "0f23aeb2"
      },
      "source": [
        "## 1. Preprocessing"
      ]
    },
    {
      "cell_type": "code",
      "execution_count": 126,
      "id": "01b39cc4",
      "metadata": {
        "id": "01b39cc4"
      },
      "outputs": [],
      "source": [
        "import pandas as pd\n",
        "import numpy as np\n",
        "import matplotlib.pyplot as plt\n",
        "import seaborn as sns\n",
        "import os"
      ]
    },
    {
      "cell_type": "code",
      "execution_count": 127,
      "id": "27dc07ce",
      "metadata": {
        "colab": {
          "base_uri": "https://localhost:8080/",
          "height": 224
        },
        "id": "27dc07ce",
        "outputId": "a344ede2-92c3-460c-9862-f95d56488d7b"
      },
      "outputs": [
        {
          "name": "stdout",
          "output_type": "stream",
          "text": [
            "Shape of dataset: (721, 7)\n"
          ]
        },
        {
          "data": {
            "text/html": [
              "\n",
              "  <div id=\"df-1f990ba5-7c56-45e8-80fa-a2a2661b35a8\">\n",
              "    <div class=\"colab-df-container\">\n",
              "      <div>\n",
              "<style scoped>\n",
              "    .dataframe tbody tr th:only-of-type {\n",
              "        vertical-align: middle;\n",
              "    }\n",
              "\n",
              "    .dataframe tbody tr th {\n",
              "        vertical-align: top;\n",
              "    }\n",
              "\n",
              "    .dataframe thead th {\n",
              "        text-align: right;\n",
              "    }\n",
              "</style>\n",
              "<table border=\"1\" class=\"dataframe\">\n",
              "  <thead>\n",
              "    <tr style=\"text-align: right;\">\n",
              "      <th></th>\n",
              "      <th>Airtemp_min</th>\n",
              "      <th>Airtemp_max</th>\n",
              "      <th>RelHum_min</th>\n",
              "      <th>RelHum_max</th>\n",
              "      <th>Rain</th>\n",
              "      <th>PGS</th>\n",
              "      <th>Disease_Risk</th>\n",
              "    </tr>\n",
              "  </thead>\n",
              "  <tbody>\n",
              "    <tr>\n",
              "      <th>0</th>\n",
              "      <td>22.8</td>\n",
              "      <td>27.7</td>\n",
              "      <td>81.1</td>\n",
              "      <td>97.1</td>\n",
              "      <td>1.5</td>\n",
              "      <td>35</td>\n",
              "      <td>Medium</td>\n",
              "    </tr>\n",
              "    <tr>\n",
              "      <th>1</th>\n",
              "      <td>22.1</td>\n",
              "      <td>28.9</td>\n",
              "      <td>74.1</td>\n",
              "      <td>99.0</td>\n",
              "      <td>0.7</td>\n",
              "      <td>36</td>\n",
              "      <td>Medium</td>\n",
              "    </tr>\n",
              "    <tr>\n",
              "      <th>2</th>\n",
              "      <td>22.1</td>\n",
              "      <td>30.2</td>\n",
              "      <td>69.1</td>\n",
              "      <td>100.0</td>\n",
              "      <td>0.1</td>\n",
              "      <td>37</td>\n",
              "      <td>Medium</td>\n",
              "    </tr>\n",
              "    <tr>\n",
              "      <th>3</th>\n",
              "      <td>21.9</td>\n",
              "      <td>30.1</td>\n",
              "      <td>68.0</td>\n",
              "      <td>100.0</td>\n",
              "      <td>0.9</td>\n",
              "      <td>38</td>\n",
              "      <td>Medium</td>\n",
              "    </tr>\n",
              "    <tr>\n",
              "      <th>4</th>\n",
              "      <td>21.5</td>\n",
              "      <td>27.6</td>\n",
              "      <td>74.0</td>\n",
              "      <td>100.0</td>\n",
              "      <td>0.0</td>\n",
              "      <td>39</td>\n",
              "      <td>Medium</td>\n",
              "    </tr>\n",
              "  </tbody>\n",
              "</table>\n",
              "</div>\n",
              "      <button class=\"colab-df-convert\" onclick=\"convertToInteractive('df-1f990ba5-7c56-45e8-80fa-a2a2661b35a8')\"\n",
              "              title=\"Convert this dataframe to an interactive table.\"\n",
              "              style=\"display:none;\">\n",
              "        \n",
              "  <svg xmlns=\"http://www.w3.org/2000/svg\" height=\"24px\"viewBox=\"0 0 24 24\"\n",
              "       width=\"24px\">\n",
              "    <path d=\"M0 0h24v24H0V0z\" fill=\"none\"/>\n",
              "    <path d=\"M18.56 5.44l.94 2.06.94-2.06 2.06-.94-2.06-.94-.94-2.06-.94 2.06-2.06.94zm-11 1L8.5 8.5l.94-2.06 2.06-.94-2.06-.94L8.5 2.5l-.94 2.06-2.06.94zm10 10l.94 2.06.94-2.06 2.06-.94-2.06-.94-.94-2.06-.94 2.06-2.06.94z\"/><path d=\"M17.41 7.96l-1.37-1.37c-.4-.4-.92-.59-1.43-.59-.52 0-1.04.2-1.43.59L10.3 9.45l-7.72 7.72c-.78.78-.78 2.05 0 2.83L4 21.41c.39.39.9.59 1.41.59.51 0 1.02-.2 1.41-.59l7.78-7.78 2.81-2.81c.8-.78.8-2.07 0-2.86zM5.41 20L4 18.59l7.72-7.72 1.47 1.35L5.41 20z\"/>\n",
              "  </svg>\n",
              "      </button>\n",
              "      \n",
              "  <style>\n",
              "    .colab-df-container {\n",
              "      display:flex;\n",
              "      flex-wrap:wrap;\n",
              "      gap: 12px;\n",
              "    }\n",
              "\n",
              "    .colab-df-convert {\n",
              "      background-color: #E8F0FE;\n",
              "      border: none;\n",
              "      border-radius: 50%;\n",
              "      cursor: pointer;\n",
              "      display: none;\n",
              "      fill: #1967D2;\n",
              "      height: 32px;\n",
              "      padding: 0 0 0 0;\n",
              "      width: 32px;\n",
              "    }\n",
              "\n",
              "    .colab-df-convert:hover {\n",
              "      background-color: #E2EBFA;\n",
              "      box-shadow: 0px 1px 2px rgba(60, 64, 67, 0.3), 0px 1px 3px 1px rgba(60, 64, 67, 0.15);\n",
              "      fill: #174EA6;\n",
              "    }\n",
              "\n",
              "    [theme=dark] .colab-df-convert {\n",
              "      background-color: #3B4455;\n",
              "      fill: #D2E3FC;\n",
              "    }\n",
              "\n",
              "    [theme=dark] .colab-df-convert:hover {\n",
              "      background-color: #434B5C;\n",
              "      box-shadow: 0px 1px 3px 1px rgba(0, 0, 0, 0.15);\n",
              "      filter: drop-shadow(0px 1px 2px rgba(0, 0, 0, 0.3));\n",
              "      fill: #FFFFFF;\n",
              "    }\n",
              "  </style>\n",
              "\n",
              "      <script>\n",
              "        const buttonEl =\n",
              "          document.querySelector('#df-1f990ba5-7c56-45e8-80fa-a2a2661b35a8 button.colab-df-convert');\n",
              "        buttonEl.style.display =\n",
              "          google.colab.kernel.accessAllowed ? 'block' : 'none';\n",
              "\n",
              "        async function convertToInteractive(key) {\n",
              "          const element = document.querySelector('#df-1f990ba5-7c56-45e8-80fa-a2a2661b35a8');\n",
              "          const dataTable =\n",
              "            await google.colab.kernel.invokeFunction('convertToInteractive',\n",
              "                                                     [key], {});\n",
              "          if (!dataTable) return;\n",
              "\n",
              "          const docLinkHtml = 'Like what you see? Visit the ' +\n",
              "            '<a target=\"_blank\" href=https://colab.research.google.com/notebooks/data_table.ipynb>data table notebook</a>'\n",
              "            + ' to learn more about interactive tables.';\n",
              "          element.innerHTML = '';\n",
              "          dataTable['output_type'] = 'display_data';\n",
              "          await google.colab.output.renderOutput(dataTable, element);\n",
              "          const docLink = document.createElement('div');\n",
              "          docLink.innerHTML = docLinkHtml;\n",
              "          element.appendChild(docLink);\n",
              "        }\n",
              "      </script>\n",
              "    </div>\n",
              "  </div>\n",
              "  "
            ],
            "text/plain": [
              "   Airtemp_min  Airtemp_max  RelHum_min  RelHum_max  Rain  PGS Disease_Risk\n",
              "0         22.8         27.7        81.1        97.1   1.5   35       Medium\n",
              "1         22.1         28.9        74.1        99.0   0.7   36       Medium\n",
              "2         22.1         30.2        69.1       100.0   0.1   37       Medium\n",
              "3         21.9         30.1        68.0       100.0   0.9   38       Medium\n",
              "4         21.5         27.6        74.0       100.0   0.0   39       Medium"
            ]
          },
          "execution_count": 127,
          "metadata": {},
          "output_type": "execute_result"
        }
      ],
      "source": [
        "df = pd.read_csv('Disease_Data.csv')\n",
        "print('Shape of dataset:', df.shape)\n",
        "df.head()"
      ]
    },
    {
      "cell_type": "code",
      "execution_count": 128,
      "id": "fccc18e7",
      "metadata": {
        "colab": {
          "base_uri": "https://localhost:8080/",
          "height": 300
        },
        "id": "fccc18e7",
        "outputId": "8933d5da-90ba-46ca-8ddf-9fb6bb4a2a35"
      },
      "outputs": [
        {
          "data": {
            "text/html": [
              "\n",
              "  <div id=\"df-3a32ebd9-dd98-40cc-9f72-bcca1b69f71b\">\n",
              "    <div class=\"colab-df-container\">\n",
              "      <div>\n",
              "<style scoped>\n",
              "    .dataframe tbody tr th:only-of-type {\n",
              "        vertical-align: middle;\n",
              "    }\n",
              "\n",
              "    .dataframe tbody tr th {\n",
              "        vertical-align: top;\n",
              "    }\n",
              "\n",
              "    .dataframe thead th {\n",
              "        text-align: right;\n",
              "    }\n",
              "</style>\n",
              "<table border=\"1\" class=\"dataframe\">\n",
              "  <thead>\n",
              "    <tr style=\"text-align: right;\">\n",
              "      <th></th>\n",
              "      <th>Airtemp_min</th>\n",
              "      <th>Airtemp_max</th>\n",
              "      <th>RelHum_min</th>\n",
              "      <th>RelHum_max</th>\n",
              "      <th>Rain</th>\n",
              "      <th>PGS</th>\n",
              "    </tr>\n",
              "  </thead>\n",
              "  <tbody>\n",
              "    <tr>\n",
              "      <th>count</th>\n",
              "      <td>721.000000</td>\n",
              "      <td>721.000000</td>\n",
              "      <td>721.000000</td>\n",
              "      <td>721.000000</td>\n",
              "      <td>721.000000</td>\n",
              "      <td>721.000000</td>\n",
              "    </tr>\n",
              "    <tr>\n",
              "      <th>mean</th>\n",
              "      <td>16.351484</td>\n",
              "      <td>30.181262</td>\n",
              "      <td>44.549293</td>\n",
              "      <td>89.420610</td>\n",
              "      <td>2.669958</td>\n",
              "      <td>101.947295</td>\n",
              "    </tr>\n",
              "    <tr>\n",
              "      <th>std</th>\n",
              "      <td>5.359814</td>\n",
              "      <td>2.619022</td>\n",
              "      <td>19.637498</td>\n",
              "      <td>12.260883</td>\n",
              "      <td>10.467854</td>\n",
              "      <td>49.776779</td>\n",
              "    </tr>\n",
              "    <tr>\n",
              "      <th>min</th>\n",
              "      <td>1.000000</td>\n",
              "      <td>13.700000</td>\n",
              "      <td>8.600000</td>\n",
              "      <td>38.000000</td>\n",
              "      <td>0.000000</td>\n",
              "      <td>35.000000</td>\n",
              "    </tr>\n",
              "    <tr>\n",
              "      <th>25%</th>\n",
              "      <td>12.000000</td>\n",
              "      <td>28.900000</td>\n",
              "      <td>29.000000</td>\n",
              "      <td>81.000000</td>\n",
              "      <td>0.000000</td>\n",
              "      <td>71.000000</td>\n",
              "    </tr>\n",
              "    <tr>\n",
              "      <th>50%</th>\n",
              "      <td>16.710000</td>\n",
              "      <td>30.380000</td>\n",
              "      <td>39.000000</td>\n",
              "      <td>95.610000</td>\n",
              "      <td>0.000000</td>\n",
              "      <td>80.000000</td>\n",
              "    </tr>\n",
              "    <tr>\n",
              "      <th>75%</th>\n",
              "      <td>21.700000</td>\n",
              "      <td>31.960000</td>\n",
              "      <td>63.000000</td>\n",
              "      <td>99.000000</td>\n",
              "      <td>0.000000</td>\n",
              "      <td>139.000000</td>\n",
              "    </tr>\n",
              "    <tr>\n",
              "      <th>max</th>\n",
              "      <td>24.200000</td>\n",
              "      <td>36.230000</td>\n",
              "      <td>86.000000</td>\n",
              "      <td>100.000000</td>\n",
              "      <td>81.750000</td>\n",
              "      <td>239.000000</td>\n",
              "    </tr>\n",
              "  </tbody>\n",
              "</table>\n",
              "</div>\n",
              "      <button class=\"colab-df-convert\" onclick=\"convertToInteractive('df-3a32ebd9-dd98-40cc-9f72-bcca1b69f71b')\"\n",
              "              title=\"Convert this dataframe to an interactive table.\"\n",
              "              style=\"display:none;\">\n",
              "        \n",
              "  <svg xmlns=\"http://www.w3.org/2000/svg\" height=\"24px\"viewBox=\"0 0 24 24\"\n",
              "       width=\"24px\">\n",
              "    <path d=\"M0 0h24v24H0V0z\" fill=\"none\"/>\n",
              "    <path d=\"M18.56 5.44l.94 2.06.94-2.06 2.06-.94-2.06-.94-.94-2.06-.94 2.06-2.06.94zm-11 1L8.5 8.5l.94-2.06 2.06-.94-2.06-.94L8.5 2.5l-.94 2.06-2.06.94zm10 10l.94 2.06.94-2.06 2.06-.94-2.06-.94-.94-2.06-.94 2.06-2.06.94z\"/><path d=\"M17.41 7.96l-1.37-1.37c-.4-.4-.92-.59-1.43-.59-.52 0-1.04.2-1.43.59L10.3 9.45l-7.72 7.72c-.78.78-.78 2.05 0 2.83L4 21.41c.39.39.9.59 1.41.59.51 0 1.02-.2 1.41-.59l7.78-7.78 2.81-2.81c.8-.78.8-2.07 0-2.86zM5.41 20L4 18.59l7.72-7.72 1.47 1.35L5.41 20z\"/>\n",
              "  </svg>\n",
              "      </button>\n",
              "      \n",
              "  <style>\n",
              "    .colab-df-container {\n",
              "      display:flex;\n",
              "      flex-wrap:wrap;\n",
              "      gap: 12px;\n",
              "    }\n",
              "\n",
              "    .colab-df-convert {\n",
              "      background-color: #E8F0FE;\n",
              "      border: none;\n",
              "      border-radius: 50%;\n",
              "      cursor: pointer;\n",
              "      display: none;\n",
              "      fill: #1967D2;\n",
              "      height: 32px;\n",
              "      padding: 0 0 0 0;\n",
              "      width: 32px;\n",
              "    }\n",
              "\n",
              "    .colab-df-convert:hover {\n",
              "      background-color: #E2EBFA;\n",
              "      box-shadow: 0px 1px 2px rgba(60, 64, 67, 0.3), 0px 1px 3px 1px rgba(60, 64, 67, 0.15);\n",
              "      fill: #174EA6;\n",
              "    }\n",
              "\n",
              "    [theme=dark] .colab-df-convert {\n",
              "      background-color: #3B4455;\n",
              "      fill: #D2E3FC;\n",
              "    }\n",
              "\n",
              "    [theme=dark] .colab-df-convert:hover {\n",
              "      background-color: #434B5C;\n",
              "      box-shadow: 0px 1px 3px 1px rgba(0, 0, 0, 0.15);\n",
              "      filter: drop-shadow(0px 1px 2px rgba(0, 0, 0, 0.3));\n",
              "      fill: #FFFFFF;\n",
              "    }\n",
              "  </style>\n",
              "\n",
              "      <script>\n",
              "        const buttonEl =\n",
              "          document.querySelector('#df-3a32ebd9-dd98-40cc-9f72-bcca1b69f71b button.colab-df-convert');\n",
              "        buttonEl.style.display =\n",
              "          google.colab.kernel.accessAllowed ? 'block' : 'none';\n",
              "\n",
              "        async function convertToInteractive(key) {\n",
              "          const element = document.querySelector('#df-3a32ebd9-dd98-40cc-9f72-bcca1b69f71b');\n",
              "          const dataTable =\n",
              "            await google.colab.kernel.invokeFunction('convertToInteractive',\n",
              "                                                     [key], {});\n",
              "          if (!dataTable) return;\n",
              "\n",
              "          const docLinkHtml = 'Like what you see? Visit the ' +\n",
              "            '<a target=\"_blank\" href=https://colab.research.google.com/notebooks/data_table.ipynb>data table notebook</a>'\n",
              "            + ' to learn more about interactive tables.';\n",
              "          element.innerHTML = '';\n",
              "          dataTable['output_type'] = 'display_data';\n",
              "          await google.colab.output.renderOutput(dataTable, element);\n",
              "          const docLink = document.createElement('div');\n",
              "          docLink.innerHTML = docLinkHtml;\n",
              "          element.appendChild(docLink);\n",
              "        }\n",
              "      </script>\n",
              "    </div>\n",
              "  </div>\n",
              "  "
            ],
            "text/plain": [
              "       Airtemp_min  Airtemp_max  RelHum_min  RelHum_max        Rain  \\\n",
              "count   721.000000   721.000000  721.000000  721.000000  721.000000   \n",
              "mean     16.351484    30.181262   44.549293   89.420610    2.669958   \n",
              "std       5.359814     2.619022   19.637498   12.260883   10.467854   \n",
              "min       1.000000    13.700000    8.600000   38.000000    0.000000   \n",
              "25%      12.000000    28.900000   29.000000   81.000000    0.000000   \n",
              "50%      16.710000    30.380000   39.000000   95.610000    0.000000   \n",
              "75%      21.700000    31.960000   63.000000   99.000000    0.000000   \n",
              "max      24.200000    36.230000   86.000000  100.000000   81.750000   \n",
              "\n",
              "              PGS  \n",
              "count  721.000000  \n",
              "mean   101.947295  \n",
              "std     49.776779  \n",
              "min     35.000000  \n",
              "25%     71.000000  \n",
              "50%     80.000000  \n",
              "75%    139.000000  \n",
              "max    239.000000  "
            ]
          },
          "execution_count": 128,
          "metadata": {},
          "output_type": "execute_result"
        }
      ],
      "source": [
        "# To display statistics about data\n",
        "df.describe()"
      ]
    },
    {
      "cell_type": "code",
      "execution_count": 129,
      "id": "a3e53b1d",
      "metadata": {
        "colab": {
          "base_uri": "https://localhost:8080/"
        },
        "id": "a3e53b1d",
        "outputId": "d7c5a101-e3d2-4e3e-c886-097f4430f7af"
      },
      "outputs": [
        {
          "name": "stdout",
          "output_type": "stream",
          "text": [
            "<class 'pandas.core.frame.DataFrame'>\n",
            "RangeIndex: 721 entries, 0 to 720\n",
            "Data columns (total 7 columns):\n",
            " #   Column        Non-Null Count  Dtype  \n",
            "---  ------        --------------  -----  \n",
            " 0   Airtemp_min   721 non-null    float64\n",
            " 1   Airtemp_max   721 non-null    float64\n",
            " 2   RelHum_min    721 non-null    float64\n",
            " 3   RelHum_max    721 non-null    float64\n",
            " 4   Rain          721 non-null    float64\n",
            " 5   PGS           721 non-null    int64  \n",
            " 6   Disease_Risk  721 non-null    object \n",
            "dtypes: float64(5), int64(1), object(1)\n",
            "memory usage: 39.6+ KB\n"
          ]
        }
      ],
      "source": [
        "# Basic Info about datatypes\n",
        "df.info()"
      ]
    },
    {
      "cell_type": "code",
      "execution_count": 130,
      "id": "e0922c45",
      "metadata": {
        "colab": {
          "base_uri": "https://localhost:8080/"
        },
        "id": "e0922c45",
        "outputId": "50d00567-c28a-4bdb-e083-87296ad48655"
      },
      "outputs": [
        {
          "data": {
            "text/plain": [
              "Low       318\n",
              "High      273\n",
              "Medium    130\n",
              "Name: Disease_Risk, dtype: int64"
            ]
          },
          "execution_count": 130,
          "metadata": {},
          "output_type": "execute_result"
        }
      ],
      "source": [
        "# To display number of samples of each class\n",
        "df['Disease_Risk'].value_counts()"
      ]
    },
    {
      "cell_type": "code",
      "execution_count": 131,
      "id": "701c152c",
      "metadata": {
        "colab": {
          "base_uri": "https://localhost:8080/",
          "height": 313
        },
        "id": "701c152c",
        "outputId": "080c63a9-d204-436d-9444-42f37c2c22b5"
      },
      "outputs": [
        {
          "data": {
            "text/plain": [
              "Text(0, 0.5, 'Frequency')"
            ]
          },
          "execution_count": 131,
          "metadata": {},
          "output_type": "execute_result"
        },
        {
          "data": {
            "image/png": "[encoded data removed]",
            "text/plain": [
              "<Figure size 432x288 with 1 Axes>"
            ]
          },
          "metadata": {
            "needs_background": "light"
          },
          "output_type": "display_data"
        }
      ],
      "source": [
        "count_class = pd.value_counts(df['Disease_Risk'], sort=True)\n",
        "count_class.plot(kind = 'bar', rot=0)\n",
        "plt.title(\"Downy Mildew Disease Risk\")\n",
        "plt.xticks(range(3))\n",
        "plt.xlabel('Disease_Risk')\n",
        "plt.ylabel('Frequency')"
      ]
    },
    {
      "cell_type": "code",
      "execution_count": 132,
      "id": "de226e14",
      "metadata": {
        "colab": {
          "base_uri": "https://localhost:8080/"
        },
        "id": "de226e14",
        "outputId": "5b1432d8-46e4-4a9f-d23e-955fea2e1a1e"
      },
      "outputs": [
        {
          "data": {
            "text/plain": [
              "Airtemp_min     0\n",
              "Airtemp_max     0\n",
              "RelHum_min      0\n",
              "RelHum_max      0\n",
              "Rain            0\n",
              "PGS             0\n",
              "Disease_Risk    0\n",
              "dtype: int64"
            ]
          },
          "execution_count": 132,
          "metadata": {},
          "output_type": "execute_result"
        }
      ],
      "source": [
        "# check for null values\n",
        "df.isnull().sum()"
      ]
    },
    {
      "cell_type": "code",
      "execution_count": 133,
      "id": "06af1783",
      "metadata": {
        "colab": {
          "base_uri": "https://localhost:8080/",
          "height": 282
        },
        "id": "06af1783",
        "outputId": "47e80d42-cd00-40c5-a5b7-22d5bae0841c"
      },
      "outputs": [
        {
          "data": {
            "text/plain": [
              "<matplotlib.axes._subplots.AxesSubplot at 0x7f38d7fe8110>"
            ]
          },
          "execution_count": 133,
          "metadata": {},
          "output_type": "execute_result"
        },
        {
          "data": {
            "image/png": "[encoded data removed]",
            "text/plain": [
              "<Figure size 432x288 with 1 Axes>"
            ]
          },
          "metadata": {
            "needs_background": "light"
          },
          "output_type": "display_data"
        }
      ],
      "source": [
        "df['Airtemp_min'].hist(bins = 20)"
      ]
    },
    {
      "cell_type": "code",
      "execution_count": 134,
      "id": "9c334778",
      "metadata": {
        "colab": {
          "base_uri": "https://localhost:8080/",
          "height": 282
        },
        "id": "9c334778",
        "outputId": "bad8c22a-02de-4463-8f0f-387787c94da2"
      },
      "outputs": [
        {
          "data": {
            "text/plain": [
              "<matplotlib.axes._subplots.AxesSubplot at 0x7f38d7f14bd0>"
            ]
          },
          "execution_count": 134,
          "metadata": {},
          "output_type": "execute_result"
        },
        {
          "data": {
            "image/png": "[encoded data removed]",
            "text/plain": [
              "<Figure size 432x288 with 1 Axes>"
            ]
          },
          "metadata": {
            "needs_background": "light"
          },
          "output_type": "display_data"
        }
      ],
      "source": [
        "df['Airtemp_max'].hist()"
      ]
    },
    {
      "cell_type": "code",
      "execution_count": 135,
      "id": "84285814",
      "metadata": {
        "colab": {
          "base_uri": "https://localhost:8080/",
          "height": 282
        },
        "id": "84285814",
        "outputId": "e629fa66-2932-46a3-def3-09a97edd664a"
      },
      "outputs": [
        {
          "data": {
            "text/plain": [
              "<matplotlib.axes._subplots.AxesSubplot at 0x7f38d7ea9750>"
            ]
          },
          "execution_count": 135,
          "metadata": {},
          "output_type": "execute_result"
        },
        {
          "data": {
            "image/png": "[encoded data removed]",
            "text/plain": [
              "<Figure size 432x288 with 1 Axes>"
            ]
          },
          "metadata": {
            "needs_background": "light"
          },
          "output_type": "display_data"
        }
      ],
      "source": [
        "df['RelHum_min'].hist()"
      ]
    },
    {
      "cell_type": "code",
      "execution_count": 136,
      "id": "e2504645",
      "metadata": {
        "colab": {
          "base_uri": "https://localhost:8080/",
          "height": 285
        },
        "id": "e2504645",
        "outputId": "12924d1f-8e65-4d34-81ab-28d2c5b51610"
      },
      "outputs": [
        {
          "data": {
            "text/plain": [
              "<matplotlib.axes._subplots.AxesSubplot at 0x7f38d7e42610>"
            ]
          },
          "execution_count": 136,
          "metadata": {},
          "output_type": "execute_result"
        },
        {
          "data": {
            "image/png": "[encoded data removed]",
            "text/plain": [
              "<Figure size 432x288 with 1 Axes>"
            ]
          },
          "metadata": {
            "needs_background": "light"
          },
          "output_type": "display_data"
        }
      ],
      "source": [
        "df['RelHum_max'].hist()"
      ]
    },
    {
      "cell_type": "code",
      "execution_count": 137,
      "id": "d4a092cb",
      "metadata": {
        "colab": {
          "base_uri": "https://localhost:8080/",
          "height": 282
        },
        "id": "d4a092cb",
        "outputId": "4c67307a-afd0-45aa-87d3-b330cdd727df"
      },
      "outputs": [
        {
          "data": {
            "text/plain": [
              "<matplotlib.axes._subplots.AxesSubplot at 0x7f38d8088550>"
            ]
          },
          "execution_count": 137,
          "metadata": {},
          "output_type": "execute_result"
        },
        {
          "data": {
            "image/png": "[encoded data removed]",
            "text/plain": [
              "<Figure size 432x288 with 1 Axes>"
            ]
          },
          "metadata": {
            "needs_background": "light"
          },
          "output_type": "display_data"
        }
      ],
      "source": [
        "df['PGS'].hist()"
      ]
    },
    {
      "cell_type": "code",
      "execution_count": 138,
      "id": "a01f1b6b",
      "metadata": {
        "id": "a01f1b6b"
      },
      "outputs": [],
      "source": [
        "# Scatterplot\n",
        "Risk = ['Low','Medium','High']"
      ]
    },
    {
      "cell_type": "code",
      "execution_count": 139,
      "id": "3fa0418e",
      "metadata": {
        "colab": {
          "base_uri": "https://localhost:8080/",
          "height": 296
        },
        "id": "3fa0418e",
        "outputId": "fb173f06-960d-4ebc-9ede-17ea9f65c678"
      },
      "outputs": [
        {
          "data": {
            "image/png": "[encoded data removed]",
            "text/plain": [
              "<Figure size 432x288 with 1 Axes>"
            ]
          },
          "metadata": {
            "needs_background": "light"
          },
          "output_type": "display_data"
        }
      ],
      "source": [
        "for i in range(3):\n",
        "    x=df[df['Disease_Risk'] == Risk[i]]\n",
        "    plt.scatter(x['Airtemp_min'],x['Airtemp_max'],label=Risk[i])\n",
        "plt.xlabel('Airtemp_min')\n",
        "plt.ylabel('Airtemp_max')\n",
        "plt.title('Airtemp_min Vs Airtemp_max')\n",
        "plt.legend()\n",
        "plt.show()"
      ]
    },
    {
      "cell_type": "code",
      "execution_count": 140,
      "id": "0ca82a02",
      "metadata": {
        "colab": {
          "base_uri": "https://localhost:8080/",
          "height": 296
        },
        "id": "0ca82a02",
        "outputId": "4f9290ab-a06a-4dd3-9385-257ec369dd87"
      },
      "outputs": [
        {
          "data": {
            "image/png": "[encoded data removed]",
            "text/plain": [
              "<Figure size 432x288 with 1 Axes>"
            ]
          },
          "metadata": {
            "needs_background": "light"
          },
          "output_type": "display_data"
        }
      ],
      "source": [
        "for i in range(3):\n",
        "    x=df[df['Disease_Risk'] == Risk[i]]\n",
        "    plt.scatter(x['RelHum_max'],x['RelHum_min'],label=Risk[i])\n",
        "plt.xlabel('RelHum_max')\n",
        "plt.ylabel('RelHum_min')\n",
        "plt.title('RelHum_max Vs RelHum_min')\n",
        "plt.legend()\n",
        "plt.show()"
      ]
    },
    {
      "cell_type": "code",
      "execution_count": 141,
      "id": "fb26fd38",
      "metadata": {
        "colab": {
          "base_uri": "https://localhost:8080/",
          "height": 296
        },
        "id": "fb26fd38",
        "outputId": "b39b0861-4402-4cdc-dad7-746674ca0681"
      },
      "outputs": [
        {
          "data": {
            "image/png": "[encoded data removed]",
            "text/plain": [
              "<Figure size 432x288 with 1 Axes>"
            ]
          },
          "metadata": {
            "needs_background": "light"
          },
          "output_type": "display_data"
        }
      ],
      "source": [
        "for i in range(3):\n",
        "    x=df[df['Disease_Risk'] == Risk[i]]\n",
        "    plt.scatter(x['Airtemp_max'],x['RelHum_min'],label=Risk[i])\n",
        "plt.xlabel('Airtemp_max')\n",
        "plt.ylabel('RelHum_min')\n",
        "plt.title('Airtemp_max Vs RelHum_min')\n",
        "plt.legend()\n",
        "plt.show()"
      ]
    },
    {
      "cell_type": "code",
      "execution_count": 142,
      "id": "79d1f425",
      "metadata": {
        "colab": {
          "base_uri": "https://localhost:8080/",
          "height": 206
        },
        "id": "79d1f425",
        "outputId": "36f3d10a-1abc-4349-e4d4-f2324d7b2256"
      },
      "outputs": [
        {
          "data": {
            "text/html": [
              "\n",
              "  <div id=\"df-8e84d809-2e01-4353-a730-d121e0b6c93e\">\n",
              "    <div class=\"colab-df-container\">\n",
              "      <div>\n",
              "<style scoped>\n",
              "    .dataframe tbody tr th:only-of-type {\n",
              "        vertical-align: middle;\n",
              "    }\n",
              "\n",
              "    .dataframe tbody tr th {\n",
              "        vertical-align: top;\n",
              "    }\n",
              "\n",
              "    .dataframe thead th {\n",
              "        text-align: right;\n",
              "    }\n",
              "</style>\n",
              "<table border=\"1\" class=\"dataframe\">\n",
              "  <thead>\n",
              "    <tr style=\"text-align: right;\">\n",
              "      <th></th>\n",
              "      <th>Airtemp_min</th>\n",
              "      <th>Airtemp_max</th>\n",
              "      <th>RelHum_min</th>\n",
              "      <th>RelHum_max</th>\n",
              "      <th>Rain</th>\n",
              "      <th>PGS</th>\n",
              "      <th>Disease_Risk</th>\n",
              "    </tr>\n",
              "  </thead>\n",
              "  <tbody>\n",
              "    <tr>\n",
              "      <th>0</th>\n",
              "      <td>22.8</td>\n",
              "      <td>27.7</td>\n",
              "      <td>81.1</td>\n",
              "      <td>97.1</td>\n",
              "      <td>1.5</td>\n",
              "      <td>35</td>\n",
              "      <td>2</td>\n",
              "    </tr>\n",
              "    <tr>\n",
              "      <th>1</th>\n",
              "      <td>22.1</td>\n",
              "      <td>28.9</td>\n",
              "      <td>74.1</td>\n",
              "      <td>99.0</td>\n",
              "      <td>0.7</td>\n",
              "      <td>36</td>\n",
              "      <td>2</td>\n",
              "    </tr>\n",
              "    <tr>\n",
              "      <th>2</th>\n",
              "      <td>22.1</td>\n",
              "      <td>30.2</td>\n",
              "      <td>69.1</td>\n",
              "      <td>100.0</td>\n",
              "      <td>0.1</td>\n",
              "      <td>37</td>\n",
              "      <td>2</td>\n",
              "    </tr>\n",
              "    <tr>\n",
              "      <th>3</th>\n",
              "      <td>21.9</td>\n",
              "      <td>30.1</td>\n",
              "      <td>68.0</td>\n",
              "      <td>100.0</td>\n",
              "      <td>0.9</td>\n",
              "      <td>38</td>\n",
              "      <td>2</td>\n",
              "    </tr>\n",
              "    <tr>\n",
              "      <th>4</th>\n",
              "      <td>21.5</td>\n",
              "      <td>27.6</td>\n",
              "      <td>74.0</td>\n",
              "      <td>100.0</td>\n",
              "      <td>0.0</td>\n",
              "      <td>39</td>\n",
              "      <td>2</td>\n",
              "    </tr>\n",
              "  </tbody>\n",
              "</table>\n",
              "</div>\n",
              "      <button class=\"colab-df-convert\" onclick=\"convertToInteractive('df-8e84d809-2e01-4353-a730-d121e0b6c93e')\"\n",
              "              title=\"Convert this dataframe to an interactive table.\"\n",
              "              style=\"display:none;\">\n",
              "        \n",
              "  <svg xmlns=\"http://www.w3.org/2000/svg\" height=\"24px\"viewBox=\"0 0 24 24\"\n",
              "       width=\"24px\">\n",
              "    <path d=\"M0 0h24v24H0V0z\" fill=\"none\"/>\n",
              "    <path d=\"M18.56 5.44l.94 2.06.94-2.06 2.06-.94-2.06-.94-.94-2.06-.94 2.06-2.06.94zm-11 1L8.5 8.5l.94-2.06 2.06-.94-2.06-.94L8.5 2.5l-.94 2.06-2.06.94zm10 10l.94 2.06.94-2.06 2.06-.94-2.06-.94-.94-2.06-.94 2.06-2.06.94z\"/><path d=\"M17.41 7.96l-1.37-1.37c-.4-.4-.92-.59-1.43-.59-.52 0-1.04.2-1.43.59L10.3 9.45l-7.72 7.72c-.78.78-.78 2.05 0 2.83L4 21.41c.39.39.9.59 1.41.59.51 0 1.02-.2 1.41-.59l7.78-7.78 2.81-2.81c.8-.78.8-2.07 0-2.86zM5.41 20L4 18.59l7.72-7.72 1.47 1.35L5.41 20z\"/>\n",
              "  </svg>\n",
              "      </button>\n",
              "      \n",
              "  <style>\n",
              "    .colab-df-container {\n",
              "      display:flex;\n",
              "      flex-wrap:wrap;\n",
              "      gap: 12px;\n",
              "    }\n",
              "\n",
              "    .colab-df-convert {\n",
              "      background-color: #E8F0FE;\n",
              "      border: none;\n",
              "      border-radius: 50%;\n",
              "      cursor: pointer;\n",
              "      display: none;\n",
              "      fill: #1967D2;\n",
              "      height: 32px;\n",
              "      padding: 0 0 0 0;\n",
              "      width: 32px;\n",
              "    }\n",
              "\n",
              "    .colab-df-convert:hover {\n",
              "      background-color: #E2EBFA;\n",
              "      box-shadow: 0px 1px 2px rgba(60, 64, 67, 0.3), 0px 1px 3px 1px rgba(60, 64, 67, 0.15);\n",
              "      fill: #174EA6;\n",
              "    }\n",
              "\n",
              "    [theme=dark] .colab-df-convert {\n",
              "      background-color: #3B4455;\n",
              "      fill: #D2E3FC;\n",
              "    }\n",
              "\n",
              "    [theme=dark] .colab-df-convert:hover {\n",
              "      background-color: #434B5C;\n",
              "      box-shadow: 0px 1px 3px 1px rgba(0, 0, 0, 0.15);\n",
              "      filter: drop-shadow(0px 1px 2px rgba(0, 0, 0, 0.3));\n",
              "      fill: #FFFFFF;\n",
              "    }\n",
              "  </style>\n",
              "\n",
              "      <script>\n",
              "        const buttonEl =\n",
              "          document.querySelector('#df-8e84d809-2e01-4353-a730-d121e0b6c93e button.colab-df-convert');\n",
              "        buttonEl.style.display =\n",
              "          google.colab.kernel.accessAllowed ? 'block' : 'none';\n",
              "\n",
              "        async function convertToInteractive(key) {\n",
              "          const element = document.querySelector('#df-8e84d809-2e01-4353-a730-d121e0b6c93e');\n",
              "          const dataTable =\n",
              "            await google.colab.kernel.invokeFunction('convertToInteractive',\n",
              "                                                     [key], {});\n",
              "          if (!dataTable) return;\n",
              "\n",
              "          const docLinkHtml = 'Like what you see? Visit the ' +\n",
              "            '<a target=\"_blank\" href=https://colab.research.google.com/notebooks/data_table.ipynb>data table notebook</a>'\n",
              "            + ' to learn more about interactive tables.';\n",
              "          element.innerHTML = '';\n",
              "          dataTable['output_type'] = 'display_data';\n",
              "          await google.colab.output.renderOutput(dataTable, element);\n",
              "          const docLink = document.createElement('div');\n",
              "          docLink.innerHTML = docLinkHtml;\n",
              "          element.appendChild(docLink);\n",
              "        }\n",
              "      </script>\n",
              "    </div>\n",
              "  </div>\n",
              "  "
            ],
            "text/plain": [
              "   Airtemp_min  Airtemp_max  RelHum_min  RelHum_max  Rain  PGS  Disease_Risk\n",
              "0         22.8         27.7        81.1        97.1   1.5   35             2\n",
              "1         22.1         28.9        74.1        99.0   0.7   36             2\n",
              "2         22.1         30.2        69.1       100.0   0.1   37             2\n",
              "3         21.9         30.1        68.0       100.0   0.9   38             2\n",
              "4         21.5         27.6        74.0       100.0   0.0   39             2"
            ]
          },
          "execution_count": 142,
          "metadata": {},
          "output_type": "execute_result"
        }
      ],
      "source": [
        "from sklearn.preprocessing import LabelEncoder\n",
        "\n",
        "le = LabelEncoder()\n",
        "df['Disease_Risk'] = le.fit_transform(df.Disease_Risk.values)\n",
        "df.head()"
      ]
    },
    {
      "cell_type": "code",
      "execution_count": 143,
      "id": "8e8f729a",
      "metadata": {
        "colab": {
          "base_uri": "https://localhost:8080/"
        },
        "id": "8e8f729a",
        "outputId": "676d3e5c-8c2f-42af-d638-46b69107ad36"
      },
      "outputs": [
        {
          "name": "stdout",
          "output_type": "stream",
          "text": [
            "{0: 'High', 1: 'Low', 2: 'Medium'}\n"
          ]
        }
      ],
      "source": [
        "Disease=np.unique(df.Disease_Risk)\n",
        "Disease_Risk_encod=le.inverse_transform(np.unique(df.Disease_Risk))\n",
        "result = {}\n",
        "for Disease, Disease_Risk_encod in zip(Disease, Disease_Risk_encod):\n",
        "    result[Disease] = Disease_Risk_encod\n",
        "\n",
        "print(result)"
      ]
    },
    {
      "cell_type": "code",
      "execution_count": 144,
      "id": "5f2a6f33",
      "metadata": {
        "colab": {
          "base_uri": "https://localhost:8080/",
          "height": 664
        },
        "id": "5f2a6f33",
        "outputId": "b6b10e1c-39a1-4355-ea62-98c98598ee82"
      },
      "outputs": [
        {
          "data": {
            "image/png": "[encoded data removed]",
            "text/plain": [
              "<Figure size 720x720 with 2 Axes>"
            ]
          },
          "metadata": {
            "needs_background": "light"
          },
          "output_type": "display_data"
        }
      ],
      "source": [
        "corr = df.corr()\n",
        "fig, ax = plt.subplots(figsize = (10, 10))\n",
        "sns.heatmap(corr, annot=True, ax = ax)\n",
        "plt.title('Correlation map')\n",
        "plt.show()"
      ]
    },
    {
      "cell_type": "code",
      "execution_count": 145,
      "id": "511d47b8",
      "metadata": {
        "id": "511d47b8"
      },
      "outputs": [],
      "source": [
        "from sklearn.model_selection import train_test_split\n",
        "\n",
        "X = df.drop(columns = ['Disease_Risk'])\n",
        "Y = df['Disease_Risk']\n",
        "\n",
        "X_train, X_test, Y_train, Y_test = train_test_split(X, Y, test_size = 0.4)"
      ]
    },
    {
      "cell_type": "code",
      "execution_count": 146,
      "id": "e97d0596",
      "metadata": {
        "id": "e97d0596"
      },
      "outputs": [],
      "source": [
        "from sklearn.preprocessing import StandardScaler\n",
        "\n",
        "sc = StandardScaler()\n",
        "\n",
        "X_train = sc.fit_transform(X_train)\n",
        "X_test = sc.fit_transform(X_test)"
      ]
    },
    {
      "cell_type": "code",
      "execution_count": 147,
      "id": "6b5e0550",
      "metadata": {
        "colab": {
          "base_uri": "https://localhost:8080/"
        },
        "id": "6b5e0550",
        "outputId": "56c39443-1787-4176-a881-9d52e84e70db"
      },
      "outputs": [
        {
          "data": {
            "text/plain": [
              "array([[ 1.17612026, -0.47449513,  1.57210279,  0.82337317, -0.26397624,\n",
              "        -0.92388694],\n",
              "       [-0.21743282,  0.6785722 , -1.12275233,  0.66161248, -0.26397624,\n",
              "        -0.16801712],\n",
              "       [-1.31760631,  0.306615  , -1.22256178,  0.17633039, -0.26397624,\n",
              "         2.57698383],\n",
              "       ...,\n",
              "       [ 1.02943046, -1.21840953,  1.97134059,  0.82337317, -0.26397624,\n",
              "        -0.76475645],\n",
              "       [-0.58415732,  0.60418076, -1.42218068, -3.3824049 , -0.26397624,\n",
              "         0.82654844],\n",
              "       [ 1.08443914, -0.88364805,  1.67191224,  0.74249282, -0.26397624,\n",
              "        -1.00345219]])"
            ]
          },
          "execution_count": 147,
          "metadata": {},
          "output_type": "execute_result"
        }
      ],
      "source": [
        "X_train"
      ]
    },
    {
      "cell_type": "code",
      "execution_count": 148,
      "id": "e09ffa46",
      "metadata": {
        "colab": {
          "base_uri": "https://localhost:8080/"
        },
        "id": "e09ffa46",
        "outputId": "3d8a5afd-a53d-4610-f8c1-24b118e9ab10"
      },
      "outputs": [
        {
          "data": {
            "text/plain": [
              "array([[ 1.19316909, -0.35487365,  1.17835225,  0.76093735, -0.16854126,\n",
              "        -1.32225173],\n",
              "       [ 0.98535572, -0.26711454,  0.45892986, -0.01690066, -0.2421825 ,\n",
              "        -0.64779515],\n",
              "       [ 1.0969592 , -1.07290271,  1.65234942,  0.76093735, -0.2421825 ,\n",
              "        -1.05655672],\n",
              "       ...,\n",
              "       [ 0.73136161,  0.12381239,  1.2310186 ,  0.92678767, -0.22114215,\n",
              "        -0.7908617 ],\n",
              "       [ 0.6543937 ,  0.72216995,  0.07235883,  0.84386251, -0.2421825 ,\n",
              "        -0.27990974],\n",
              "       [ 0.46197392,  0.72216995, -0.19097293,  0.84386251, -0.2421825 ,\n",
              "        -0.5047286 ]])"
            ]
          },
          "execution_count": 148,
          "metadata": {},
          "output_type": "execute_result"
        }
      ],
      "source": [
        "X_test"
      ]
    },
    {
      "cell_type": "code",
      "execution_count": 149,
      "id": "19c1c483",
      "metadata": {
        "colab": {
          "base_uri": "https://localhost:8080/"
        },
        "id": "19c1c483",
        "outputId": "d8c42695-c394-4626-d061-695e11518a8d"
      },
      "outputs": [
        {
          "name": "stderr",
          "output_type": "stream",
          "text": [
            "/usr/local/lib/python3.7/dist-packages/sklearn/base.py:451: UserWarning: X does not have valid feature names, but StandardScaler was fitted with feature names\n",
            "  \"X does not have valid feature names, but\"\n",
            "/usr/local/lib/python3.7/dist-packages/sklearn/base.py:451: UserWarning: X does not have valid feature names, but StandardScaler was fitted with feature names\n",
            "  \"X does not have valid feature names, but\"\n",
            "/usr/local/lib/python3.7/dist-packages/sklearn/base.py:451: UserWarning: X does not have valid feature names, but StandardScaler was fitted with feature names\n",
            "  \"X does not have valid feature names, but\"\n",
            "/usr/local/lib/python3.7/dist-packages/sklearn/base.py:451: UserWarning: X does not have valid feature names, but StandardScaler was fitted with feature names\n",
            "  \"X does not have valid feature names, but\"\n",
            "/usr/local/lib/python3.7/dist-packages/sklearn/base.py:451: UserWarning: X does not have valid feature names, but StandardScaler was fitted with feature names\n",
            "  \"X does not have valid feature names, but\"\n"
          ]
        }
      ],
      "source": [
        "features1 = np.array([[22.9,27.8,81.0,97.0,1.6,35]]) #medium\n",
        "features2 = np.array([[19.3,33.6,69,100,2.4,71]]) #high\n",
        "features3 = np.array([[9.0,34.0,17.0,85.0,0.0,235]]) #Low\n",
        "features4 = np.array([[9.1,34.5,16.0,84.0,0.0,234]]) #Low\n",
        "features5 = np.array([[19.0,33.0,68.0,99,2.1,73]]) #high\n",
        "\n",
        "data1 = sc.transform(features1)\n",
        "data2 = sc.transform(features2)\n",
        "data3 = sc.transform(features3)\n",
        "data4 = sc.transform(features4)\n",
        "data5 = sc.transform(features5)"
      ]
    },
    {
      "cell_type": "markdown",
      "id": "88af89ba",
      "metadata": {
        "id": "88af89ba"
      },
      "source": [
        "### A. Logistic Regression"
      ]
    },
    {
      "cell_type": "code",
      "execution_count": 150,
      "id": "0d40a69b",
      "metadata": {
        "id": "0d40a69b"
      },
      "outputs": [],
      "source": [
        "# Logistic Regression\n",
        "from sklearn.linear_model import LogisticRegression\n",
        "\n",
        "model = LogisticRegression()"
      ]
    },
    {
      "cell_type": "code",
      "execution_count": 151,
      "id": "6eb3e9f2",
      "metadata": {
        "colab": {
          "base_uri": "https://localhost:8080/"
        },
        "id": "6eb3e9f2",
        "outputId": "7cfcb109-48d0-4a77-e9ce-4b91de2a3a95"
      },
      "outputs": [
        {
          "data": {
            "text/plain": [
              "LogisticRegression()"
            ]
          },
          "execution_count": 151,
          "metadata": {},
          "output_type": "execute_result"
        }
      ],
      "source": [
        "# model training\n",
        "model.fit(X_train, Y_train)"
      ]
    },
    {
      "cell_type": "code",
      "execution_count": 152,
      "id": "ce662e9d",
      "metadata": {
        "id": "ce662e9d"
      },
      "outputs": [],
      "source": [
        "Y_pred = model.predict(X_test)"
      ]
    },
    {
      "cell_type": "code",
      "execution_count": 153,
      "id": "d5032582",
      "metadata": {
        "colab": {
          "base_uri": "https://localhost:8080/"
        },
        "id": "d5032582",
        "outputId": "c804109e-8535-451a-86cf-b19af4a40779"
      },
      "outputs": [
        {
          "name": "stdout",
          "output_type": "stream",
          "text": [
            "Testing accuracy: 95.50\n",
            "Precision Score: 0.96\n",
            "Recall Score: 0.93\n",
            "F1 Score: 0.94\n",
            "MEDIUM chances of Downy Mildew\n",
            "HIGH chances of Downy Mildew\n",
            "LOW chances of Downy Mildew\n",
            "LOW chances of Downy Mildew\n",
            "HIGH chances of Downy Mildew\n"
          ]
        }
      ],
      "source": [
        "print_scores(Y_pred, Y_test, model)\n",
        "get_predictions(data1, le)\n",
        "get_predictions(data2, le)\n",
        "get_predictions(data3, le)\n",
        "get_predictions(data4, le)\n",
        "get_predictions(data5, le)"
      ]
    },
    {
      "cell_type": "code",
      "execution_count": 154,
      "id": "f3c5276d",
      "metadata": {
        "colab": {
          "base_uri": "https://localhost:8080/"
        },
        "id": "f3c5276d",
        "outputId": "985505a8-7651-493d-8573-5880adb42189",
        "scrolled": true
      },
      "outputs": [
        {
          "name": "stdout",
          "output_type": "stream",
          "text": [
            "[[104   0  12]\n",
            " [  1 125   0]\n",
            " [  0   0  47]]\n"
          ]
        }
      ],
      "source": [
        "from sklearn.metrics import confusion_matrix\n",
        "\n",
        "confusion_matrix = confusion_matrix(Y_test, Y_pred)\n",
        "print(confusion_matrix)"
      ]
    },
    {
      "cell_type": "markdown",
      "id": "2133ac6a",
      "metadata": {
        "id": "2133ac6a"
      },
      "source": [
        "### B. K-Nearest Neighbor Classifier"
      ]
    },
    {
      "cell_type": "code",
      "execution_count": 155,
      "id": "46cf373e",
      "metadata": {
        "id": "46cf373e"
      },
      "outputs": [],
      "source": [
        "from sklearn.neighbors import KNeighborsClassifier\n",
        "\n",
        "model = KNeighborsClassifier() # Default n_neighbours is 5"
      ]
    },
    {
      "cell_type": "code",
      "execution_count": 156,
      "id": "3cfc6722",
      "metadata": {
        "colab": {
          "base_uri": "https://localhost:8080/"
        },
        "id": "3cfc6722",
        "outputId": "96c99f64-9e6a-4906-cfa6-02d5cf69f417"
      },
      "outputs": [
        {
          "data": {
            "text/plain": [
              "KNeighborsClassifier()"
            ]
          },
          "execution_count": 156,
          "metadata": {},
          "output_type": "execute_result"
        }
      ],
      "source": [
        "model.fit(X_train, Y_train)"
      ]
    },
    {
      "cell_type": "code",
      "execution_count": 157,
      "id": "2634ccdf",
      "metadata": {
        "colab": {
          "base_uri": "https://localhost:8080/"
        },
        "id": "2634ccdf",
        "outputId": "8f3101f9-b1ef-4c74-9cdd-4ace190e21a2"
      },
      "outputs": [
        {
          "name": "stdout",
          "output_type": "stream",
          "text": [
            "Testing accuracy: 95.16\n",
            "Precision Score: 0.96\n",
            "Recall Score: 0.93\n",
            "F1 Score: 0.94\n",
            "MEDIUM chances of Downy Mildew\n",
            "HIGH chances of Downy Mildew\n",
            "LOW chances of Downy Mildew\n",
            "LOW chances of Downy Mildew\n",
            "HIGH chances of Downy Mildew\n"
          ]
        }
      ],
      "source": [
        "Y_pred = model.predict(X_test)\n",
        "print_scores(Y_pred, Y_test, model)\n",
        "get_predictions(data1, le)\n",
        "get_predictions(data2, le)\n",
        "get_predictions(data3, le)\n",
        "get_predictions(data4, le)\n",
        "get_predictions(data5, le)"
      ]
    },
    {
      "cell_type": "code",
      "execution_count": 158,
      "id": "ae4ece2c",
      "metadata": {
        "colab": {
          "base_uri": "https://localhost:8080/"
        },
        "id": "ae4ece2c",
        "outputId": "c2a7d08f-7c4b-49da-aacd-27b370b2d027",
        "scrolled": true
      },
      "outputs": [
        {
          "name": "stdout",
          "output_type": "stream",
          "text": [
            "[[104   4   8]\n",
            " [  1 125   0]\n",
            " [  1   0  46]]\n"
          ]
        }
      ],
      "source": [
        "from sklearn.metrics import confusion_matrix\n",
        "\n",
        "confusion_matrix = confusion_matrix(Y_test, Y_pred)\n",
        "print(confusion_matrix)"
      ]
    },
    {
      "cell_type": "markdown",
      "id": "85111129",
      "metadata": {
        "id": "85111129"
      },
      "source": [
        "### C. Decision Tree Classifier"
      ]
    },
    {
      "cell_type": "code",
      "execution_count": 159,
      "id": "8889802c",
      "metadata": {
        "id": "8889802c"
      },
      "outputs": [],
      "source": [
        "# decision tree\n",
        "from sklearn.tree import DecisionTreeClassifier\n",
        "\n",
        "model5 = DecisionTreeClassifier()"
      ]
    },
    {
      "cell_type": "code",
      "execution_count": 160,
      "id": "0ab9955b",
      "metadata": {
        "colab": {
          "base_uri": "https://localhost:8080/"
        },
        "id": "0ab9955b",
        "outputId": "78f1ca0d-fd66-43f5-854d-5ee5d9dab2c0"
      },
      "outputs": [
        {
          "data": {
            "text/plain": [
              "DecisionTreeClassifier()"
            ]
          },
          "execution_count": 160,
          "metadata": {},
          "output_type": "execute_result"
        }
      ],
      "source": [
        "model5.fit(X_train, Y_train)"
      ]
    },
    {
      "cell_type": "code",
      "execution_count": 161,
      "id": "8b9721bc",
      "metadata": {
        "colab": {
          "base_uri": "https://localhost:8080/"
        },
        "id": "8b9721bc",
        "outputId": "8ec3ce01-8e5c-41ce-b664-848dbff5a6a4"
      },
      "outputs": [
        {
          "name": "stdout",
          "output_type": "stream",
          "text": [
            "Testing accuracy: 95.16\n",
            "Precision Score: 0.99\n",
            "Recall Score: 0.97\n",
            "F1 Score: 0.98\n",
            "MEDIUM chances of Downy Mildew\n",
            "HIGH chances of Downy Mildew\n",
            "LOW chances of Downy Mildew\n",
            "LOW chances of Downy Mildew\n",
            "HIGH chances of Downy Mildew\n"
          ]
        }
      ],
      "source": [
        "Y_pred = model5.predict(X_test)\n",
        "print_scores(Y_pred, Y_test, model)\n",
        "get_predictions(data1, le)\n",
        "get_predictions(data2, le)\n",
        "get_predictions(data3, le)\n",
        "get_predictions(data4, le)\n",
        "get_predictions(data5, le)"
      ]
    },
    {
      "cell_type": "code",
      "execution_count": 162,
      "id": "d4303d17",
      "metadata": {
        "colab": {
          "base_uri": "https://localhost:8080/"
        },
        "id": "d4303d17",
        "outputId": "5fd9bd22-4fa8-4420-c1b4-88e28a8137fa",
        "scrolled": true
      },
      "outputs": [
        {
          "name": "stdout",
          "output_type": "stream",
          "text": [
            "[[112   0   4]\n",
            " [  1 125   0]\n",
            " [  0   0  47]]\n"
          ]
        }
      ],
      "source": [
        "from sklearn.metrics import confusion_matrix\n",
        "\n",
        "confusion_matrix = confusion_matrix(Y_test, Y_pred)\n",
        "print(confusion_matrix)"
      ]
    },
    {
      "cell_type": "markdown",
      "id": "957be8e2",
      "metadata": {
        "id": "957be8e2"
      },
      "source": [
        "### E. Support Vector Classifier"
      ]
    },
    {
      "cell_type": "code",
      "execution_count": 163,
      "id": "43cc842f",
      "metadata": {
        "colab": {
          "base_uri": "https://localhost:8080/"
        },
        "id": "43cc842f",
        "outputId": "b9472e2f-6ecf-4763-f6aa-0ea37525a612"
      },
      "outputs": [
        {
          "data": {
            "text/plain": [
              "SVC()"
            ]
          },
          "execution_count": 163,
          "metadata": {},
          "output_type": "execute_result"
        }
      ],
      "source": [
        "from sklearn.svm import SVC\n",
        "\n",
        "model = SVC(kernel = 'rbf')\n",
        "model.fit(X_train, Y_train)"
      ]
    },
    {
      "cell_type": "code",
      "execution_count": 164,
      "id": "42542b42",
      "metadata": {
        "colab": {
          "base_uri": "https://localhost:8080/"
        },
        "id": "42542b42",
        "outputId": "b0d7f201-7959-40ee-9691-c9a3216380e7"
      },
      "outputs": [
        {
          "name": "stdout",
          "output_type": "stream",
          "text": [
            "Testing accuracy: 93.43\n",
            "Precision Score: 0.95\n",
            "Recall Score: 0.91\n",
            "F1 Score: 0.92\n",
            "MEDIUM chances of Downy Mildew\n",
            "HIGH chances of Downy Mildew\n",
            "LOW chances of Downy Mildew\n",
            "LOW chances of Downy Mildew\n",
            "HIGH chances of Downy Mildew\n"
          ]
        }
      ],
      "source": [
        "Y_pred = model.predict(X_test)\n",
        "print_scores(Y_pred, Y_test, model)\n",
        "get_predictions(data1, le)\n",
        "get_predictions(data2, le)\n",
        "get_predictions(data3, le)\n",
        "get_predictions(data4, le)\n",
        "get_predictions(data5, le)"
      ]
    },
    {
      "cell_type": "markdown",
      "id": "29ab07c5",
      "metadata": {
        "id": "29ab07c5"
      },
      "source": [
        "### F. Random Forest Classifier"
      ]
    },
    {
      "cell_type": "code",
      "execution_count": 165,
      "id": "91a4746b",
      "metadata": {
        "colab": {
          "base_uri": "https://localhost:8080/"
        },
        "id": "91a4746b",
        "outputId": "79ff986f-c5ee-45d9-a259-bb857da3fff5"
      },
      "outputs": [
        {
          "data": {
            "text/plain": [
              "RandomForestClassifier(criterion='entropy', n_estimators=10)"
            ]
          },
          "execution_count": 165,
          "metadata": {},
          "output_type": "execute_result"
        }
      ],
      "source": [
        "from sklearn.ensemble import RandomForestClassifier  \n",
        "model= RandomForestClassifier(n_estimators= 10, criterion=\"entropy\")  \n",
        "model.fit(X_train, Y_train)  "
      ]
    },
    {
      "cell_type": "code",
      "execution_count": 166,
      "id": "7db3b81c",
      "metadata": {
        "colab": {
          "base_uri": "https://localhost:8080/"
        },
        "id": "7db3b81c",
        "outputId": "bfc8b9e8-1701-424a-f8fd-8824a6411097"
      },
      "outputs": [
        {
          "name": "stdout",
          "output_type": "stream",
          "text": [
            "Testing accuracy: 97.58\n",
            "Precision Score: 0.97\n",
            "Recall Score: 0.96\n",
            "F1 Score: 0.97\n",
            "MEDIUM chances of Downy Mildew\n",
            "HIGH chances of Downy Mildew\n",
            "LOW chances of Downy Mildew\n",
            "LOW chances of Downy Mildew\n",
            "HIGH chances of Downy Mildew\n"
          ]
        }
      ],
      "source": [
        "Y_pred = model.predict(X_test)\n",
        "print_scores(Y_pred, Y_test, model)\n",
        "get_predictions(data1, le)\n",
        "get_predictions(data2, le)\n",
        "get_predictions(data3, le)\n",
        "get_predictions(data4, le)\n",
        "get_predictions(data5, le)"
      ]
    },
    {
      "cell_type": "markdown",
      "id": "583580a0",
      "metadata": {
        "id": "583580a0"
      },
      "source": [
        "## Voting Classifier"
      ]
    },
    {
      "cell_type": "code",
      "execution_count": 167,
      "id": "596c21e3",
      "metadata": {
        "id": "596c21e3"
      },
      "outputs": [],
      "source": [
        "from sklearn.ensemble import VotingClassifier,RandomForestClassifier"
      ]
    },
    {
      "cell_type": "code",
      "execution_count": 168,
      "id": "b631a1ed",
      "metadata": {
        "colab": {
          "base_uri": "https://localhost:8080/"
        },
        "id": "b631a1ed",
        "outputId": "124b7229-9c76-4cd3-b986-9edfbe8f478f"
      },
      "outputs": [
        {
          "data": {
            "text/plain": [
              "VotingClassifier(estimators=[('lr', LogisticRegression()),\n",
              "                             ('kn', KNeighborsClassifier()),\n",
              "                             ('rf', RandomForestClassifier()),\n",
              "                             ('dt', DecisionTreeClassifier())],\n",
              "                 voting='soft')"
            ]
          },
          "execution_count": 168,
          "metadata": {},
          "output_type": "execute_result"
        }
      ],
      "source": [
        "model1 = LogisticRegression()\n",
        "model2 = KNeighborsClassifier()\n",
        "model3 = RandomForestClassifier()\n",
        "model4 = DecisionTreeClassifier()\n",
        "model = VotingClassifier(estimators=[('lr',model1),('kn',model2),('rf',model3),('dt',model4)],voting='soft')\n",
        "model.fit(X_train, Y_train)"
      ]
    },
    {
      "cell_type": "code",
      "execution_count": 169,
      "id": "1b15deaf",
      "metadata": {
        "colab": {
          "base_uri": "https://localhost:8080/"
        },
        "id": "1b15deaf",
        "outputId": "5db2d925-e8a1-4291-c0dd-76b4117ea969"
      },
      "outputs": [
        {
          "name": "stdout",
          "output_type": "stream",
          "text": [
            "Testing accuracy: 98.27\n",
            "Precision Score: 0.99\n",
            "Recall Score: 0.97\n",
            "F1 Score: 0.98\n",
            "MEDIUM chances of Downy Mildew\n",
            "HIGH chances of Downy Mildew\n",
            "LOW chances of Downy Mildew\n",
            "LOW chances of Downy Mildew\n",
            "HIGH chances of Downy Mildew\n"
          ]
        }
      ],
      "source": [
        "Y_pred = model.predict(X_test)\n",
        "print_scores(Y_pred, Y_test, model)\n",
        "get_predictions(data1, le)\n",
        "get_predictions(data2, le)\n",
        "get_predictions(data3, le)\n",
        "get_predictions(data4, le)\n",
        "get_predictions(data5, le)"
      ]
    },
    {
      "cell_type": "code",
      "execution_count": 170,
      "id": "20d4d16e",
      "metadata": {
        "id": "20d4d16e"
      },
      "outputs": [],
      "source": [
        "import pickle\n",
        "pickle.dump(model,open('model5.pkl','wb'))"
      ]
    },
    {
      "cell_type": "code",
      "execution_count": 170,
      "id": "83668b2a",
      "metadata": {
        "id": "83668b2a"
      },
      "outputs": [],
      "source": []
    },
    {
      "cell_type": "code",
      "execution_count": 170,
      "id": "c9049b42",
      "metadata": {
        "id": "c9049b42"
      },
      "outputs": [],
      "source": []
    },
    {
      "cell_type": "code",
      "execution_count": 170,
      "id": "267f90e1",
      "metadata": {
        "id": "267f90e1"
      },
      "outputs": [],
      "source": []
    }
  ],
  "metadata": {
    "colab": {
      "provenance": []
    },
    "kernelspec": {
      "display_name": "Python 3.8.0 64-bit",
      "language": "python",
      "name": "python3"
    },
    "language_info": {
      "codemirror_mode": {
        "name": "ipython",
        "version": 3
      },
      "file_extension": ".py",
      "mimetype": "text/x-python",
      "name": "python",
      "nbconvert_exporter": "python",
      "pygments_lexer": "ipython3",
      "version": "3.8.0"
    },
    "vscode": {
      "interpreter": {
        "hash": "25d775a05cd5ef828ac55111e2d25fe7a8cdee116904ae28746ef0f2500c8ec5"
      }
    }
  },
  "nbformat": 4,
  "nbformat_minor": 5
}
